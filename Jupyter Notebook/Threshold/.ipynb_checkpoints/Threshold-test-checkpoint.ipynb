{
 "cells": [
  {
   "cell_type": "code",
   "execution_count": 31,
   "metadata": {},
   "outputs": [],
   "source": [
    "from pynq import Overlay\n",
    "from time import sleep\n",
    "from matplotlib import pyplot as plt\n",
    "import math\n",
    "import string\n",
    "import binascii\n",
    "from PIL import Image\n",
    "import numpy as np\n",
    "import IPython\n",
    "import timeit"
   ]
  },
  {
   "cell_type": "code",
   "execution_count": 3,
   "metadata": {},
   "outputs": [],
   "source": [
    "dsp_proc = Overlay(\"Overlay/DSPProc_design.bit\")\n",
    "dsp_proc.ip_dict.keys()\n",
    "\n",
    "CSRAdd_7DT5        = int(\"000\",2);\n",
    "sourceMemAdd_7DT5  = int(\"001\",2);\n",
    "resultMem0Add_7DT5 = int(\"010\",2);\n",
    "        \n",
    "period   = 0.02\n",
    "zero_32  = '00000000000000000000000000000000'\n",
    "zero_16  = '0000000000000000'\n",
    "zero_8   = '00000000'"
   ]
  },
  {
   "cell_type": "code",
   "execution_count": 4,
   "metadata": {},
   "outputs": [],
   "source": [
    "continue_proc = dsp_proc.continue_proc\n",
    "datToHost     = dsp_proc.datToHost\n",
    "host_datToMem = dsp_proc.host_datToMem\n",
    "host_memAdd   = dsp_proc.host_memAdd\n",
    "host_memWr    = dsp_proc.host_memWr\n",
    "rst           = dsp_proc.rst"
   ]
  },
  {
   "cell_type": "code",
   "execution_count": 5,
   "metadata": {},
   "outputs": [],
   "source": [
    "sourceArray_test = [ [\"1f\",\"1e\",\"1d\",\"1c\",\"1b\",\"1a\",\"19\",\"18\",\"17\",\"16\",\"15\",\"14\",\"13\",\"12\",\"11\",\"10\",\"0f\",\"0e\",\"0d\",\"0c\",\"0b\",\"0a\",\"09\",\"08\",\"07\",\"06\",\"05\",\"04\",\"03\",\"02\",\"01\",\"00\"],      \n",
    "    [\"3f\",\"3e\",\"3d\",\"3c\",\"3b\",\"3a\",\"39\",\"38\",\"37\",\"36\",\"35\",\"34\",\"33\",\"32\",\"31\",\"30\",\"2f\",\"2e\",\"2d\",\"2c\",\"2b\",\"2a\",\"29\",\"28\",\"27\",\"26\",\"25\",\"24\",\"23\",\"22\",\"21\",\"20\"],      \n",
    "    [\"5f\",\"5e\",\"5d\",\"5c\",\"5b\",\"5a\",\"59\",\"58\",\"57\",\"56\",\"55\",\"54\",\"53\",\"52\",\"51\",\"50\",\"4f\",\"4e\",\"4d\",\"4c\",\"4b\",\"4a\",\"49\",\"48\",\"47\",\"46\",\"45\",\"44\",\"43\",\"42\",\"41\",\"40\"],      \n",
    "    [\"7f\",\"7e\",\"7d\",\"7c\",\"7b\",\"7a\",\"79\",\"78\",\"77\",\"76\",\"75\",\"74\",\"73\",\"72\",\"71\",\"70\",\"6f\",\"6e\",\"6d\",\"6c\",\"6b\",\"6a\",\"69\",\"68\",\"67\",\"66\",\"65\",\"64\",\"63\",\"62\",\"61\",\"60\"],      \n",
    "    [\"9f\",\"9e\",\"9d\",\"9c\",\"9b\",\"9a\",\"99\",\"98\",\"97\",\"96\",\"95\",\"94\",\"93\",\"92\",\"91\",\"90\",\"8f\",\"8e\",\"8d\",\"8c\",\"8b\",\"8a\",\"89\",\"88\",\"87\",\"86\",\"85\",\"84\",\"83\",\"82\",\"81\",\"80\"],      \n",
    "    [\"bf\",\"be\",\"bd\",\"bc\",\"bb\",\"ba\",\"b9\",\"b8\",\"b7\",\"b6\",\"b5\",\"b4\",\"b3\",\"b2\",\"b1\",\"b0\",\"af\",\"ae\",\"ad\",\"ac\",\"ab\",\"aa\",\"a9\",\"a8\",\"a7\",\"a6\",\"a5\",\"a4\",\"a3\",\"a2\",\"a1\",\"a0\"],      \n",
    "    [\"df\",\"de\",\"dd\",\"dc\",\"db\",\"da\",\"d9\",\"d8\",\"d7\",\"d6\",\"d5\",\"d4\",\"d3\",\"d2\",\"d1\",\"d0\",\"cf\",\"ce\",\"cd\",\"cc\",\"cb\",\"ca\",\"c9\",\"c8\",\"c7\",\"c6\",\"c5\",\"c4\",\"c3\",\"c2\",\"c1\",\"c0\"],      \n",
    "    [\"ff\",\"fe\",\"fd\",\"fc\",\"fb\",\"fa\",\"f9\",\"f8\",\"f7\",\"f6\",\"f5\",\"f4\",\"f3\",\"f2\",\"f1\",\"f0\",\"ef\",\"ee\",\"ed\",\"ec\",\"eb\",\"ea\",\"e9\",\"e8\",\"e7\",\"e6\",\"e5\",\"e4\",\"e3\",\"e2\",\"e1\",\"e0\"],      \n",
    "    [\"1f\",\"1e\",\"1d\",\"1c\",\"1b\",\"1a\",\"19\",\"18\",\"17\",\"16\",\"15\",\"14\",\"13\",\"12\",\"11\",\"10\",\"0f\",\"0e\",\"0d\",\"0c\",\"0b\",\"0a\",\"09\",\"08\",\"07\",\"06\",\"05\",\"04\",\"03\",\"02\",\"01\",\"00\"],      \n",
    "    [\"3f\",\"3e\",\"3d\",\"3c\",\"3b\",\"3a\",\"39\",\"38\",\"37\",\"36\",\"35\",\"34\",\"33\",\"32\",\"31\",\"30\",\"2f\",\"2e\",\"2d\",\"2c\",\"2b\",\"2a\",\"29\",\"28\",\"27\",\"26\",\"25\",\"24\",\"23\",\"22\",\"21\",\"20\"],      \n",
    "    [\"5f\",\"5e\",\"5d\",\"5c\",\"5b\",\"5a\",\"59\",\"58\",\"57\",\"56\",\"55\",\"54\",\"53\",\"52\",\"51\",\"50\",\"4f\",\"4e\",\"4d\",\"4c\",\"4b\",\"4a\",\"49\",\"48\",\"47\",\"46\",\"45\",\"44\",\"43\",\"42\",\"41\",\"40\"],      \n",
    "    [\"7f\",\"7e\",\"7d\",\"7c\",\"7b\",\"7a\",\"79\",\"78\",\"77\",\"76\",\"75\",\"74\",\"73\",\"72\",\"71\",\"70\",\"6f\",\"6e\",\"6d\",\"6c\",\"6b\",\"6a\",\"69\",\"68\",\"67\",\"66\",\"65\",\"64\",\"63\",\"62\",\"61\",\"60\"],      \n",
    "    [\"9f\",\"9e\",\"9d\",\"9c\",\"9b\",\"9a\",\"99\",\"98\",\"97\",\"96\",\"95\",\"94\",\"93\",\"92\",\"91\",\"90\",\"8f\",\"8e\",\"8d\",\"8c\",\"8b\",\"8a\",\"89\",\"88\",\"87\",\"86\",\"85\",\"84\",\"83\",\"82\",\"81\",\"80\"],      \n",
    "    [\"bf\",\"be\",\"bd\",\"bc\",\"bb\",\"ba\",\"b9\",\"b8\",\"b7\",\"b6\",\"b5\",\"b4\",\"b3\",\"b2\",\"b1\",\"b0\",\"af\",\"ae\",\"ad\",\"ac\",\"ab\",\"aa\",\"a9\",\"a8\",\"a7\",\"a6\",\"a5\",\"a4\",\"a3\",\"a2\",\"a1\",\"a0\"],      \n",
    "    [\"df\",\"de\",\"dd\",\"dc\",\"db\",\"da\",\"d9\",\"d8\",\"d7\",\"d6\",\"d5\",\"d4\",\"d3\",\"d2\",\"d1\",\"d0\",\"cf\",\"ce\",\"cd\",\"cc\",\"cb\",\"ca\",\"c9\",\"c8\",\"c7\",\"c6\",\"c5\",\"c4\",\"c3\",\"c2\",\"c1\",\"c0\"],      \n",
    "    [\"ff\",\"fe\",\"fd\",\"fc\",\"fb\",\"fa\",\"f9\",\"f8\",\"f7\",\"f6\",\"f5\",\"f4\",\"f3\",\"f2\",\"f1\",\"f0\",\"ef\",\"ee\",\"ed\",\"ec\",\"eb\",\"ea\",\"e9\",\"e8\",\"e7\",\"e6\",\"e5\",\"e4\",\"e3\",\"e2\",\"e1\",\"e0\"],      \n",
    "    [\"1f\",\"1e\",\"1d\",\"1c\",\"1b\",\"1a\",\"19\",\"18\",\"17\",\"16\",\"15\",\"14\",\"13\",\"12\",\"11\",\"10\",\"0f\",\"0e\",\"0d\",\"0c\",\"0b\",\"0a\",\"09\",\"08\",\"07\",\"06\",\"05\",\"04\",\"03\",\"02\",\"01\",\"00\"],      \n",
    "    [\"3f\",\"3e\",\"3d\",\"3c\",\"3b\",\"3a\",\"39\",\"38\",\"37\",\"36\",\"35\",\"34\",\"33\",\"32\",\"31\",\"30\",\"2f\",\"2e\",\"2d\",\"2c\",\"2b\",\"2a\",\"29\",\"28\",\"27\",\"26\",\"25\",\"24\",\"23\",\"22\",\"21\",\"20\"],      \n",
    "    [\"5f\",\"5e\",\"5d\",\"5c\",\"5b\",\"5a\",\"59\",\"58\",\"57\",\"56\",\"55\",\"54\",\"53\",\"52\",\"51\",\"50\",\"4f\",\"4e\",\"4d\",\"4c\",\"4b\",\"4a\",\"49\",\"48\",\"47\",\"46\",\"45\",\"44\",\"43\",\"42\",\"41\",\"40\"],      \n",
    "    [\"7f\",\"7e\",\"7d\",\"7c\",\"7b\",\"7a\",\"79\",\"78\",\"77\",\"76\",\"75\",\"74\",\"73\",\"72\",\"71\",\"70\",\"6f\",\"6e\",\"6d\",\"6c\",\"6b\",\"6a\",\"69\",\"68\",\"67\",\"66\",\"65\",\"64\",\"63\",\"62\",\"61\",\"60\"],      \n",
    "    [\"9f\",\"9e\",\"9d\",\"9c\",\"9b\",\"9a\",\"99\",\"98\",\"97\",\"96\",\"95\",\"94\",\"93\",\"92\",\"91\",\"90\",\"8f\",\"8e\",\"8d\",\"8c\",\"8b\",\"8a\",\"89\",\"88\",\"87\",\"86\",\"85\",\"84\",\"83\",\"82\",\"81\",\"80\"],      \n",
    "    [\"bf\",\"be\",\"bd\",\"bc\",\"bb\",\"ba\",\"b9\",\"b8\",\"b7\",\"b6\",\"b5\",\"b4\",\"b3\",\"b2\",\"b1\",\"b0\",\"af\",\"ae\",\"ad\",\"ac\",\"ab\",\"aa\",\"a9\",\"a8\",\"a7\",\"a6\",\"a5\",\"a4\",\"a3\",\"a2\",\"a1\",\"a0\"],      \n",
    "    [\"df\",\"de\",\"dd\",\"dc\",\"db\",\"da\",\"d9\",\"d8\",\"d7\",\"d6\",\"d5\",\"d4\",\"d3\",\"d2\",\"d1\",\"d0\",\"cf\",\"ce\",\"cd\",\"cc\",\"cb\",\"ca\",\"c9\",\"c8\",\"c7\",\"c6\",\"c5\",\"c4\",\"c3\",\"c2\",\"c1\",\"c0\"],      \n",
    "    [\"ff\",\"fe\",\"fd\",\"fc\",\"fb\",\"fa\",\"f9\",\"f8\",\"f7\",\"f6\",\"f5\",\"f4\",\"f3\",\"f2\",\"f1\",\"f0\",\"ef\",\"ee\",\"ed\",\"ec\",\"eb\",\"ea\",\"e9\",\"e8\",\"e7\",\"e6\",\"e5\",\"e4\",\"e3\",\"e2\",\"e1\",\"e0\"],      \n",
    "    [\"1f\",\"1e\",\"1d\",\"1c\",\"1b\",\"1a\",\"19\",\"18\",\"17\",\"16\",\"15\",\"14\",\"13\",\"12\",\"11\",\"10\",\"0f\",\"0e\",\"0d\",\"0c\",\"0b\",\"0a\",\"09\",\"08\",\"07\",\"06\",\"05\",\"04\",\"03\",\"02\",\"01\",\"00\"],      \n",
    "    [\"3f\",\"3e\",\"3d\",\"3c\",\"3b\",\"3a\",\"39\",\"38\",\"37\",\"36\",\"35\",\"34\",\"33\",\"32\",\"31\",\"30\",\"2f\",\"2e\",\"2d\",\"2c\",\"2b\",\"2a\",\"29\",\"28\",\"27\",\"26\",\"25\",\"24\",\"23\",\"22\",\"21\",\"20\"],      \n",
    "    [\"5f\",\"5e\",\"5d\",\"5c\",\"5b\",\"5a\",\"59\",\"58\",\"57\",\"56\",\"55\",\"54\",\"53\",\"52\",\"51\",\"50\",\"4f\",\"4e\",\"4d\",\"4c\",\"4b\",\"4a\",\"49\",\"48\",\"47\",\"46\",\"45\",\"44\",\"43\",\"42\",\"41\",\"40\"],      \n",
    "    [\"7f\",\"7e\",\"7d\",\"7c\",\"7b\",\"7a\",\"79\",\"78\",\"77\",\"76\",\"75\",\"74\",\"73\",\"72\",\"71\",\"70\",\"6f\",\"6e\",\"6d\",\"6c\",\"6b\",\"6a\",\"69\",\"68\",\"67\",\"66\",\"65\",\"64\",\"63\",\"62\",\"61\",\"60\"],      \n",
    "    [\"9f\",\"9e\",\"9d\",\"9c\",\"9b\",\"9a\",\"99\",\"98\",\"97\",\"96\",\"95\",\"94\",\"93\",\"92\",\"91\",\"90\",\"8f\",\"8e\",\"8d\",\"8c\",\"8b\",\"8a\",\"89\",\"88\",\"87\",\"86\",\"85\",\"84\",\"83\",\"82\",\"81\",\"80\"],      \n",
    "    [\"bf\",\"be\",\"bd\",\"bc\",\"bb\",\"ba\",\"b9\",\"b8\",\"b7\",\"b6\",\"b5\",\"b4\",\"b3\",\"b2\",\"b1\",\"b0\",\"af\",\"ae\",\"ad\",\"ac\",\"ab\",\"aa\",\"a9\",\"a8\",\"a7\",\"a6\",\"a5\",\"a4\",\"a3\",\"a2\",\"a1\",\"a0\"],      \n",
    "    [\"df\",\"de\",\"dd\",\"dc\",\"db\",\"da\",\"d9\",\"d8\",\"d7\",\"d6\",\"d5\",\"d4\",\"d3\",\"d2\",\"d1\",\"d0\",\"cf\",\"ce\",\"cd\",\"cc\",\"cb\",\"ca\",\"c9\",\"c8\",\"c7\",\"c6\",\"c5\",\"c4\",\"c3\",\"c2\",\"c1\",\"c0\"],      \n",
    "    [\"ff\",\"fe\",\"fd\",\"fc\",\"fb\",\"fa\",\"f9\",\"f8\",\"f7\",\"f6\",\"f5\",\"f4\",\"f3\",\"f2\",\"f1\",\"f0\",\"ef\",\"ee\",\"ed\",\"ec\",\"eb\",\"ea\",\"e9\",\"e8\",\"e7\",\"e6\",\"e5\",\"e4\",\"e3\",\"e2\",\"e1\",\"e0\"] ]"
   ]
  },
  {
   "cell_type": "code",
   "execution_count": 6,
   "metadata": {},
   "outputs": [],
   "source": [
    "def rstProc():\n",
    "    rst.write(0, int('1', 2))\n",
    "    sleep(1.2 * period)\n",
    "    rst.write(0, int('0', 2))\n",
    "    sleep(period)"
   ]
  },
  {
   "cell_type": "code",
   "execution_count": 7,
   "metadata": {},
   "outputs": [],
   "source": [
    "def write_sourceMem(sourceArray):\n",
    "    \n",
    "    host_memAdd_10_8 = int(\"000\", 2)\n",
    "    host_memAdd_7_5  = sourceMemAdd_7DT5\n",
    "    host_memAdd_4_0  = int(\"00000\", 2)\n",
    "    host_memAdd_str  = '{0:03b}'.format(host_memAdd_10_8) + '{0:03b}'.format(host_memAdd_7_5) + '{0:05b}'.format(host_memAdd_4_0)\n",
    "    host_memAdd.write(0,int(host_memAdd_str,2))\n",
    "    \n",
    "    host_memWr.write(0, int('1', 2))\n",
    "    \n",
    "    for i in range (0, 32):\n",
    "        \n",
    "        host_memAdd_4_0  = int(format(i, 'b'), 2)\n",
    "        host_memAdd_str  = '{0:03b}'.format(host_memAdd_10_8) + '{0:03b}'.format(host_memAdd_7_5) + '{0:05b}'.format(host_memAdd_4_0)\n",
    "        host_memAdd.write(0,int(host_memAdd_str,2))\n",
    "        \n",
    "        temp = sourceArray[i][::-1]       \n",
    "        temp5 = ''\n",
    "        \n",
    "        for j in range (0, 8):\n",
    "            \n",
    "            host_memAdd_10_8  = int(format(j, 'b'), 2)\n",
    "            host_memAdd_str  = '{0:03b}'.format(host_memAdd_10_8) + '{0:03b}'.format(host_memAdd_7_5) + '{0:05b}'.format(host_memAdd_4_0)\n",
    "            host_memAdd.write(0,int(host_memAdd_str,2))\n",
    "        \n",
    "            temp3 = ''\n",
    "            temp4 = ''\n",
    "            \n",
    "            for k in range((4*j) , (j*4 + 4)):\n",
    "                temp3 = str('{0:08b}'.format(int(temp[k], 16))) + temp3\n",
    "            \n",
    "            temp4 = '{0:032b}'.format(int(temp3, 2))\n",
    "                        \n",
    "            host_datToMem.write(0, int(temp4,2))\n",
    "      \n",
    "            # print('{:02x}'.format(int(temp4,2)))    \n",
    "                      \n",
    "        # print(\"--\")\n",
    "        \n",
    "    \n",
    "    host_memWr.write(0, int('0', 2))\n",
    "    host_memAdd.write(0, int('00000000000', 2))\n",
    "    host_datToMem.write(0, int(zero_32, 2))"
   ]
  },
  {
   "cell_type": "code",
   "execution_count": 8,
   "metadata": {},
   "outputs": [],
   "source": [
    "def read_sourceMem():\n",
    "    host_memAdd_10_8 = int('000', 2)\n",
    "    host_memAdd_7_5  = sourceMemAdd_7DT5\n",
    "    host_memAdd_4_0  = int(\"00000\", 2)\n",
    "    host_memAdd_str  = '{0:03b}'.format(host_memAdd_10_8) + '{0:03b}'.format(host_memAdd_7_5) + '{0:05b}'.format(host_memAdd_4_0)\n",
    "    host_memAdd.write(0,int(host_memAdd_str,2))\n",
    "    \n",
    "    host_memWr.write(0, int('0', 2))\n",
    "        \n",
    "    for i in range(0, 32):\n",
    "        host_memAdd_4_0  = int(format(i, 'b'), 2)\n",
    "        sourceMemData2 = ''\n",
    "        \n",
    "        for j in range(0, 8):\n",
    "            \n",
    "            host_memAdd_10_8  = int(format(j, 'b'), 2)\n",
    "            host_memAdd_str   = '{0:03b}'.format(host_memAdd_10_8) + '{0:03b}'.format(host_memAdd_7_5) + '{0:05b}'.format(host_memAdd_4_0)\n",
    "            host_memAdd.write(0, int(host_memAdd_str,2))\n",
    "            \n",
    "          \n",
    "            sourceMemData = hex(datToHost.read())\n",
    "            sourceMemData2 = '{0:02x}'.format(int(sourceMemData, 16)) + sourceMemData2\n",
    "        \n",
    "        \n",
    "        print(sourceMemData2)\n",
    "        \n",
    "        # sleep(period)\n",
    "        \n",
    "       \n",
    "    \n",
    "    host_memAdd.write(0, int('00000000000', 2))"
   ]
  },
  {
   "cell_type": "code",
   "execution_count": 9,
   "metadata": {},
   "outputs": [],
   "source": [
    "def write_resultMem(resultMem_data):\n",
    "\n",
    "    host_memAdd_10_8 = int('000', 2)\n",
    "    host_memAdd_7_5  = resultMem0Add_7DT5\n",
    "    host_memAdd_4_0  = int(\"00000\", 2)\n",
    "    host_memAdd_str  = '{0:03b}'.format(host_memAdd_10_8) + '{0:03b}'.format(host_memAdd_7_5) + '{0:05b}'.format(host_memAdd_4_0)\n",
    "    host_memAdd.write(0,int(host_memAdd_str,2))\n",
    "    \n",
    "    host_memWr.write(0, int('1', 2))\n",
    "        \n",
    "    for i in range(0, 32):\n",
    "        temp = '0'\n",
    "        \n",
    "        host_memAdd_4_0  = int(format(i, 'b'), 2)\n",
    "        host_memAdd_str  = '{0:03b}'.format(host_memAdd_10_8) + '{0:03b}'.format(host_memAdd_7_5) + '{0:05b}'.format(host_memAdd_4_0)\n",
    "        host_memAdd.write(0,int(host_memAdd_str,2))\n",
    "        \n",
    "        for j in range (0, 32):\n",
    "            temp += str(format(int(resultMem_data[i][j], 2), 'b'))\n",
    "            \n",
    "        temp1 = '{0:032b}'.format(int(temp, 2)) \n",
    "        \n",
    "        \n",
    "        host_datToMem.write(0, int(temp1, 2))\n",
    "        # print(temp1)\n",
    "        \n",
    "        # sleep(period)\n",
    "        \n",
    "    host_memWr.write(0, int('0', 2))\n",
    "    host_memAdd.write(0, int('00000000000', 2))\n",
    "    host_datToMem.write(0, int(zero_32, 2))"
   ]
  },
  {
   "cell_type": "code",
   "execution_count": 29,
   "metadata": {},
   "outputs": [],
   "source": [
    "def read_resultMem():\n",
    "       \n",
    "    host_memAdd_10_8 = int('000', 2)\n",
    "    host_memAdd_7_5  = resultMem0Add_7DT5\n",
    "    host_memAdd_4_0  = int(\"00000\", 2)\n",
    "    host_memAdd_str  = '{0:03b}'.format(host_memAdd_10_8) + '{0:03b}'.format(host_memAdd_7_5) + '{0:05b}'.format(host_memAdd_4_0)\n",
    "    host_memAdd.write(0,int(host_memAdd_str,2))\n",
    "    \n",
    "    host_memWr.write(0, int('0', 2))\n",
    "    \n",
    "    temp = [0 for x in range(32)] \n",
    "    result_mem_array = np.zeros(shape=(32,32))\n",
    "    \n",
    "    for i in range(0, 32):\n",
    "        host_memAdd_4_0  = int(format(i, 'b'), 2)\n",
    "        host_memAdd_str  = '{0:03b}'.format(host_memAdd_10_8) + '{0:03b}'.format(host_memAdd_7_5) + '{0:05b}'.format(host_memAdd_4_0)\n",
    "        host_memAdd.write(0,int(host_memAdd_str,2))\n",
    "        \n",
    "        #sleep(period)\n",
    "        \n",
    "        resultMemData = hex(datToHost.read())\n",
    "        resultMemData = str('{0:032b}'.format(int(resultMemData, 16)))\n",
    "        \n",
    "        temp[i] = resultMemData\n",
    "        #print(resultMemData)\n",
    "    \n",
    "    for i in range(0, 32):\n",
    "        for j in range(0, 32):\n",
    "            result_mem_array[i][j] = temp[i][j]\n",
    "        #print(result_mem_array[i])  \n",
    "        \n",
    "    host_memAdd.write(0, int('00000000000', 2))\n",
    "    \n",
    "    return result_mem_array"
   ]
  },
  {
   "cell_type": "code",
   "execution_count": 11,
   "metadata": {},
   "outputs": [],
   "source": [
    "def activate_threshold(threshVal):\n",
    "    \n",
    "    threshold_cmd_byte = int(\"00000101\", 2)\n",
    "    \n",
    "    host_memWr.write(0, int('1', 2))\n",
    "    \n",
    "    host_memAdd_10_8 = int('000', 2)\n",
    "    host_memAdd_7_5  = CSRAdd_7DT5\n",
    "    host_memAdd_4_0  = int(\"00000\", 2)\n",
    "    host_memAdd_str  = '{0:03b}'.format(host_memAdd_10_8) + '{0:03b}'.format(host_memAdd_7_5) + '{0:05b}'.format(host_memAdd_4_0)\n",
    "    host_memAdd.write(0,int(host_memAdd_str,2))\n",
    "    \n",
    "    host_datToMem_31_16 = int(zero_16, 2)\n",
    "    host_datToMem_15_8 = int(threshVal, 2)\n",
    "    host_datToMem_7_0  = threshold_cmd_byte\n",
    "    host_datToMem_str = '{0:016b}'.format(host_datToMem_31_16) + '{0:08b}'.format(host_datToMem_15_8) + '{0:08b}'.format(host_datToMem_7_0)\n",
    "    host_datToMem.write(0,int(host_datToMem_str,2))\n",
    "    \n",
    "    sleep(period)\n",
    "    \n",
    "    host_memWr.write(0, int('0', 2))\n",
    "    host_memAdd.write(0, int('00000000000', 2))\n",
    "    host_datToMem.write(0, int(zero_32, 2))\n",
    "    #sleep(1200 * period)"
   ]
  },
  {
   "cell_type": "code",
   "execution_count": 12,
   "metadata": {},
   "outputs": [],
   "source": [
    "def get_array_from_image(file):\n",
    "    \n",
    "    image = Image.open(file)\n",
    "    image = image.resize((32, 32)).convert('L')\n",
    "    image.save(fp=\"resized.png\")\n",
    "    \n",
    "    image = Image.open(\"resized.png\")\n",
    "\n",
    "    image_array = np.asarray(image)\n",
    "        \n",
    "    image_data = [[0 for x in range(32)] for y in range(32)] \n",
    "    \n",
    "    \n",
    "    for i in range (0, 32):\n",
    "        temp = ''\n",
    "        for j in range (0, 32):\n",
    "            temp += '{0:02x}'.format(int(image_array[i][j]))\n",
    "            image_data[i][j] = '{0:02x}'.format(int(image_array[i][j]))\n",
    "        #print(temp)\n",
    "  \n",
    "    return image_data;"
   ]
  },
  {
   "cell_type": "code",
   "execution_count": 13,
   "metadata": {},
   "outputs": [],
   "source": [
    "#sourceMem_data = [['00']*32]*32\n",
    "#write_sourceMem(sourceMem_data)\n",
    "\n",
    "write_sourceMem(sourceArray_test)"
   ]
  },
  {
   "cell_type": "code",
   "execution_count": 16,
   "metadata": {},
   "outputs": [],
   "source": [
    "eiffel_image = get_array_from_image(\"Images/resized/eiffel.png\")\n",
    "write_sourceMem(eiffel_image)"
   ]
  },
  {
   "cell_type": "code",
   "execution_count": 17,
   "metadata": {},
   "outputs": [
    {
     "name": "stdout",
     "output_type": "stream",
     "text": [
      "807c7d7876757377726c7678828c888f9b928f867f7a7d7771746e696e635b4e\n",
      "868280817e807a807d7a7e81878f9196acaf9d8d7e7f807c797275716e655e57\n",
      "85828181847d7f7e817f83868f9d9e3673b0aaaa9281777a7b8078726e655e52\n",
      "7e7e858384797e7e82827e868c8f8e011dada6aab599817f7d7a777572656054\n",
      "8e8581808c88938c9f9d8687898c90001a8a3a6a69f85807f7f766f69635c4e\n",
      "b99f8f8b82a2aea0b7ab958a8f969101aa7a29695888385868773716b665f58\n",
      "aaadaba0979f92a19b8e90a5a3949b0017abb2b2a59a94948c7b8f79746d6352\n",
      "b9a198918c848591a4bbcbbaaca6ab0717b3a7a4b0a9b0b0a39b978395846c57\n",
      "aea0939ea8adada2bcb9adafa4aaac634acdd3cbc0bcc8c8c3af948a978f8260\n",
      "a4a29d9a9ab2b7baafa6bab0b8bbc1067c4b5b2adb5bdb2afc9ae8f8567574d\n",
      "c0aa8d818595b1b3a5aeb0b1bfcad00711dad8d9cbac8e867f807375736b6954\n",
      "b09e8a837f8285919ea7b8c2ced9290e12e4d2d1c0b0949096a19e9d8f7b7051\n",
      "a398979289939081a9aaa7bbcacf090db44eae4e4dad0cbc3cbc2c1a49c9473\n",
      "b6b299959298989d9e98a7b1bececd1b1834dfd2c5aeaba8cbc5d3cca2a48d57\n",
      "9e9f9fa295979b9da6acb5c3d3dc964c21cceddbcfb8aa90847c8c886f6e6661\n",
      "8f989ea19c9f9dabbed0cfd4cc1e56303b4d3ae2d4c2afa48c7f76726e646f6b\n",
      "aba6a99f9bb8b4bcbdb8ccd5d50207052110be1d4c2b1a69c8d837e76706556\n",
      "d2c7c5b8bbaeabadb8c1c9d4de04012221240af1e8dccfc1b2a8a1978a847469\n",
      "bfbdb7babccfd5d3d0dbe0e68e3f00e4e7467e46f1e9e3d9ccc4bfb2ab968072\n",
      "dbd4d5d2d3d3d5d8dde5ecf4616407f4f64cb437f8f4ede5ddd3c7c1b3b09e83\n",
      "edeae9e6e8eae9ecf1f3f494632feefcfa82db6471faf6efebe3ddd4ccc6b7a2\n",
      "f8f6f6f8f6f6f6f6f4f4315e3b154551162b33ac2f80faf8f2efeae8e2dfd4c9\n",
      "fcfafcfaf9f8f6f6f9f40e011e01061711012e223fafcf8f8f6f2f2eeece4\n",
      "f6f4faf6e9cbc0f5f46e617d3e39364a2e114336816180f6f6f5f5f4f0ecece2\n",
      "62012d6f6f1f2f4c1a2041f48fe8997a678f6461c0792c3fcfaf8f7f7980501\n",
      "10b91000af9fddf952ca3d6fcfafaf9f8f9bf5f21fddadff313011ed82c\n",
      "80a0903292f4104686f52f9c1f7f4f4f6a4f61461c1171cc6c022111997\n",
      "1010000426a118bf75d9c3ff0aa8983dff28e59a62d3f45759075151c0f\n",
      "410400037190022105ee7dbb0c6f37fb19985e0ebdbb25990023101a50a48ca\n",
      "8f00003055613b644e3f364646030d0343263261556774a09c8858141b7e\n",
      "7160728b8785947f735152444d463a3f353d392d263f45495661507e4c4c7162\n",
      "302a545d3c664238393c203224401f35201f22242c5345464c293821374b1c36\n"
     ]
    }
   ],
   "source": [
    "read_sourceMem()"
   ]
  },
  {
   "cell_type": "code",
   "execution_count": 19,
   "metadata": {},
   "outputs": [],
   "source": [
    "#resultMem_data = [['0']*32]*32\n",
    "#write_resultMem(resultMem_data)  \n",
    "#read_resultMem()"
   ]
  },
  {
   "cell_type": "code",
   "execution_count": 20,
   "metadata": {},
   "outputs": [],
   "source": [
    "activate_threshold(\"00111111\")"
   ]
  },
  {
   "cell_type": "code",
   "execution_count": 30,
   "metadata": {},
   "outputs": [],
   "source": [
    "result_image_array = read_resultMem()\n",
    "data = Image.fromarray(np.uint8(result_image_array * 255) , 'L')\n",
    "data.save('./Images/result/eiffel.png')"
   ]
  },
  {
   "cell_type": "code",
   "execution_count": 27,
   "metadata": {},
   "outputs": [
    {
     "data": {
      "image/png": "[encoded data removed]",
      "text/plain": [
       "<IPython.core.display.Image object>"
      ]
     },
     "execution_count": 27,
     "metadata": {
      "image/png": {
       "height": 250,
       "width": 250
      }
     },
     "output_type": "execute_result"
    }
   ],
   "source": [
    "# original_img = plt.imread(\"resized.png\")\n",
    "# plt.imshow(original_img, 'gray')\n",
    "\n",
    "IPython.display.Image(filename = './Images/resized/eiffel.png', width = 250, height = 250)"
   ]
  },
  {
   "cell_type": "code",
   "execution_count": 28,
   "metadata": {},
   "outputs": [
    {
     "data": {
      "image/png": "[encoded data removed]",
      "text/plain": [
       "<IPython.core.display.Image object>"
      ]
     },
     "execution_count": 28,
     "metadata": {
      "image/png": {
       "height": 250,
       "width": 250
      }
     },
     "output_type": "execute_result"
    }
   ],
   "source": [
    "# plt.imshow(result_image_array, 'gray')\n",
    "\n",
    "IPython.display.Image(filename = './Images/result/eiffel.png', width = 250, height = 250)"
   ]
  },
  {
   "cell_type": "markdown",
   "metadata": {},
   "source": [
    "# Testing"
   ]
  },
  {
   "cell_type": "code",
   "execution_count": 93,
   "metadata": {},
   "outputs": [],
   "source": [
    "def poll_CSR0():\n",
    "   \n",
    "        host_memWr.write(0, int('0', 2))\n",
    "        host_memAdd_10_8 = int('000', 2)\n",
    "        host_memAdd_7_5  = CSRAdd_7DT5\n",
    "        host_memAdd_4_2  = int(\"000\", 2)\n",
    "        host_memAdd_2_1  = int(\"00\", 2)\n",
    "        host_memAdd_str  = '{0:03b}'.format(host_memAdd_10_8) + '{0:03b}'.format(host_memAdd_7_5) + '{0:03b}'.format(host_memAdd_4_2) + '{0:02b}'.format(host_memAdd_2_1)\n",
    "        host_memAdd.write(0,int(host_memAdd_str,2))\n",
    "\n",
    "        resultMemData = hex(datToHost.read())\n",
    "        resultMemData = str('{0:032b}'.format(int(resultMemData, 16)))\n",
    "\n",
    "        print(resultMemData)\n",
    "\n",
    "        host_memAdd.write(0, int('00000000000', 2))\n"
   ]
  },
  {
   "cell_type": "code",
   "execution_count": 59,
   "metadata": {},
   "outputs": [],
   "source": [
    "def write_sourceMem_for_test(sourceArray):\n",
    "    \n",
    "    host_memAdd_10_8 = int(\"000\", 2)\n",
    "    host_memAdd_7_5  = sourceMemAdd_7DT5\n",
    "    host_memAdd_4_0  = int(\"00000\", 2)\n",
    "    host_memAdd_str  = '{0:03b}'.format(host_memAdd_10_8) + '{0:03b}'.format(host_memAdd_7_5) + '{0:05b}'.format(host_memAdd_4_0)\n",
    "    host_memAdd.write(0,int(host_memAdd_str,2))\n",
    "    \n",
    "    host_memWr.write(0, int('1', 2))\n",
    "    \n",
    "    for i in range (0, 32):\n",
    "        \n",
    "        host_memAdd_4_0  = int(format(i, 'b'), 2)\n",
    "        host_memAdd_str  = '{0:03b}'.format(host_memAdd_10_8) + '{0:03b}'.format(host_memAdd_7_5) + '{0:05b}'.format(host_memAdd_4_0)\n",
    "        host_memAdd.write(0,int(host_memAdd_str,2))\n",
    "        \n",
    "        temp = sourceArray[i][::-1]       \n",
    "        \n",
    "        for j in range (0, 8):\n",
    "            \n",
    "            host_memAdd_10_8  = int(format(j, 'b'), 2)\n",
    "            host_memAdd_str  = '{0:03b}'.format(host_memAdd_10_8) + '{0:03b}'.format(host_memAdd_7_5) + '{0:05b}'.format(host_memAdd_4_0)\n",
    "            host_memAdd.write(0,int(host_memAdd_str,2))\n",
    "        \n",
    "            temp3 = ''\n",
    "            temp4 = ''\n",
    "            \n",
    "            for k in range((4*j) , (j*4 + 4)):\n",
    "                temp3 = str('{0:08b}'.format(int(temp[k], 16))) + temp3\n",
    "            \n",
    "            temp4 = '{0:032b}'.format(int(temp3, 2))\n",
    "                        \n",
    "            host_datToMem.write(0, int(temp4,2))\n",
    "    \n",
    "    host_memWr.write(0, int('0', 2))\n",
    "    host_memAdd.write(0, int('00000000000', 2))\n",
    "    host_datToMem.write(0, int(zero_32, 2))"
   ]
  },
  {
   "cell_type": "code",
   "execution_count": 66,
   "metadata": {},
   "outputs": [],
   "source": [
    "def activate_threshold_for_test(threshVal):\n",
    "    \n",
    "    threshold_cmd_byte = int(\"00000101\", 2)\n",
    "    \n",
    "    host_memWr.write(0, int('1', 2))\n",
    "    \n",
    "    host_memAdd_10_8 = int('000', 2)\n",
    "    host_memAdd_7_5  = CSRAdd_7DT5\n",
    "    host_memAdd_4_0  = int(\"00000\", 2)\n",
    "    host_memAdd_str  = '{0:03b}'.format(host_memAdd_10_8) + '{0:03b}'.format(host_memAdd_7_5) + '{0:05b}'.format(host_memAdd_4_0)\n",
    "    host_memAdd.write(0,int(host_memAdd_str,2))\n",
    "    \n",
    "    host_datToMem_31_16 = int(zero_16, 2)\n",
    "    host_datToMem_15_8 = int(threshVal, 2)\n",
    "    host_datToMem_7_0  = threshold_cmd_byte\n",
    "    host_datToMem_str = '{0:016b}'.format(host_datToMem_31_16) + '{0:08b}'.format(host_datToMem_15_8) + '{0:08b}'.format(host_datToMem_7_0)\n",
    "    host_datToMem.write(0,int(host_datToMem_str,2))\n",
    "    \n",
    "    host_memWr.write(0, int('0', 2))\n",
    "    host_memAdd.write(0, int('00000000000', 2))\n",
    "    host_datToMem.write(0, int(zero_32, 2))\n",
    "\n",
    "    "
   ]
  },
  {
   "cell_type": "code",
   "execution_count": 62,
   "metadata": {},
   "outputs": [],
   "source": [
    "def read_resultMem_for_test():\n",
    "       \n",
    "    host_memAdd_10_8 = int('000', 2)\n",
    "    host_memAdd_7_5  = resultMem0Add_7DT5\n",
    "    host_memAdd_4_0  = int(\"00000\", 2)\n",
    "    host_memAdd_str  = '{0:03b}'.format(host_memAdd_10_8) + '{0:03b}'.format(host_memAdd_7_5) + '{0:05b}'.format(host_memAdd_4_0)\n",
    "    host_memAdd.write(0,int(host_memAdd_str,2))\n",
    "    \n",
    "    host_memWr.write(0, int('0', 2))\n",
    "    \n",
    "    temp = ''\n",
    "    \n",
    "    for i in range(0, 32):\n",
    "        host_memAdd_4_0  = int(format(i, 'b'), 2)\n",
    "        host_memAdd_str  = '{0:03b}'.format(host_memAdd_10_8) + '{0:03b}'.format(host_memAdd_7_5) + '{0:05b}'.format(host_memAdd_4_0)\n",
    "        host_memAdd.write(0,int(host_memAdd_str,2))     \n",
    "        resultMemData = hex(datToHost.read())\n",
    "        temp += resultMemData\n",
    "\n",
    "    host_memAdd.write(0, int('00000000000', 2))\n"
   ]
  },
  {
   "cell_type": "code",
   "execution_count": 60,
   "metadata": {},
   "outputs": [
    {
     "name": "stdout",
     "output_type": "stream",
     "text": [
      "Writing to SourceMem\n",
      "Total time for 100x :6.540166953000153\n",
      "Average time for 1x :0.06540166953000152\n"
     ]
    }
   ],
   "source": [
    "eiffel_image = get_array_from_image(\"Images/resized/eiffel.png\")\n",
    "\n",
    "# Writing to the sourceMem 100 times ~ 6.5 secs\n",
    "time_taken = timeit.timeit(lambda: write_sourceMem_for_test(eiffel_image), number=100)\n",
    "avg_time = time_taken/100\n",
    "\n",
    "print(\"Writing to SourceMem\")\n",
    "print(\"Total time for 100x :\" + str(time_taken) + ' s')\n",
    "print(\"Average time for 1x :\" + str(avg_time) + ' s')"
   ]
  },
  {
   "cell_type": "code",
   "execution_count": 58,
   "metadata": {},
   "outputs": [
    {
     "name": "stdout",
     "output_type": "stream",
     "text": [
      "Reading from resultMem\n",
      "Total time for 100x :0.463695257000154\n",
      "Average time for 1x :0.0046369525700015405\n"
     ]
    }
   ],
   "source": [
    "# Reading resultMem 100 times ~ 0.4 secs\n",
    "time_taken = timeit.timeit(lambda: read_resultMem_for_test(), number=100)\n",
    "avg_time = time_taken/100\n",
    "\n",
    "print(\"Reading from resultMem\")\n",
    "print(\"Total time for 100x :\" + str(time_taken) + ' s')\n",
    "print(\"Average time for 1x :\" + str(avg_time) + ' s')"
   ]
  },
  {
   "cell_type": "code",
   "execution_count": 87,
   "metadata": {},
   "outputs": [
    {
     "name": "stdout",
     "output_type": "stream",
     "text": [
      "Writing to sourceMem, activating threshold and reading resultMem\n",
      "100x : 6.974129016999996 s\n",
      "  1x : 0.06974129016999996 s\n"
     ]
    }
   ],
   "source": [
    "# Calculating the time taken for writing sourceMem, activating threshold and reading resultMem\n",
    "\n",
    "eiffel_image = get_array_from_image(\"Images/resized/eiffel.png\")\n",
    "\n",
    "start = timeit.default_timer()\n",
    "\n",
    "for i in range(0, 100):\n",
    "    write_sourceMem_for_test(eiffel_image)\n",
    "    activate_threshold_for_test(\"00011111\")\n",
    "    read_resultMem_for_test()\n",
    "\n",
    "end = timeit.default_timer()\n",
    "time_taken = end-start\n",
    "avg_time_taken = time_taken/100\n",
    "\n",
    "print(\"Writing to sourceMem, activating threshold and reading resultMem\")\n",
    "print(\"100x : \" + str(time_taken) + ' s')\n",
    "print(\"  1x : \" + str(avg_time_taken) + ' s')"
   ]
  },
  {
   "cell_type": "code",
   "execution_count": 94,
   "metadata": {},
   "outputs": [
    {
     "name": "stdout",
     "output_type": "stream",
     "text": [
      "00000000000000000001111110000100\n"
     ]
    }
   ],
   "source": [
    "activate_threshold_for_test(\"00011111\")\n",
    "poll_CSR0()"
   ]
  },
  {
   "cell_type": "code",
   "execution_count": 80,
   "metadata": {},
   "outputs": [
    {
     "name": "stdout",
     "output_type": "stream",
     "text": [
      "Total time for 100x :0.0020562560002872488\n",
      "Average time for 1x :2.0562560002872488e-05\n"
     ]
    }
   ],
   "source": [
    "def test_func(x):\n",
    "    for i in range(0, 32):\n",
    "        x = x\n",
    "    \n",
    "time_taken = timeit.timeit(lambda: test_func(1), number=100)\n",
    "avg_time = time_taken/100\n",
    "\n",
    "print(\"Total time for 100x :\" + str(time_taken))\n",
    "print(\"Average time for 1x :\" + str(avg_time))"
   ]
  }
 ],
 "metadata": {
  "kernelspec": {
   "display_name": "Python 3",
   "language": "python",
   "name": "python3"
  },
  "language_info": {
   "codemirror_mode": {
    "name": "ipython",
    "version": 3
   },
   "file_extension": ".py",
   "mimetype": "text/x-python",
   "name": "python",
   "nbconvert_exporter": "python",
   "pygments_lexer": "ipython3",
   "version": "3.6.0"
  }
 },
 "nbformat": 4,
 "nbformat_minor": 2
}
